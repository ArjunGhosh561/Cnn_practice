{
 "cells": [
  {
   "cell_type": "code",
   "execution_count": 1,
   "metadata": {},
   "outputs": [],
   "source": [
    "import numpy as np\n",
    "import matplotlib.pyplot as plt\n",
    "import pandas as pd\n"
   ]
  },
  {
   "cell_type": "code",
   "execution_count": 2,
   "metadata": {},
   "outputs": [],
   "source": [
    "import tensorflow as tf\n",
    "# from keras.models import Sequential\n",
    "# from keras.layers import Convolution2D\n",
    "# from keras.layers import MaxPooling2D\n",
    "# from keras.layers import Flatten\n",
    "# from keras.layers import Dense"
   ]
  },
  {
   "cell_type": "code",
   "execution_count": 3,
   "metadata": {},
   "outputs": [],
   "source": [
    "cnn = tf.keras.models.Sequential()"
   ]
  },
  {
   "cell_type": "code",
   "execution_count": 4,
   "metadata": {},
   "outputs": [],
   "source": [
    "#1st convolution layer\n",
    "\n",
    "cnn.add(tf.keras.layers.Conv2D(filters=32, kernel_size=3, activation='relu', input_shape=[64, 64, 3]))\n",
    "cnn.add(tf.keras.layers.MaxPool2D(pool_size=2, strides=2))"
   ]
  },
  {
   "cell_type": "code",
   "execution_count": 5,
   "metadata": {},
   "outputs": [],
   "source": [
    "#second convolution layer\n",
    "cnn.add(tf.keras.layers.Conv2D(filters=32, kernel_size=3, activation='relu'))\n",
    "cnn.add(tf.keras.layers.MaxPool2D(pool_size=2, strides=2))"
   ]
  },
  {
   "cell_type": "code",
   "execution_count": 6,
   "metadata": {},
   "outputs": [],
   "source": [
    "cnn.add(tf.keras.layers.Flatten())"
   ]
  },
  {
   "cell_type": "code",
   "execution_count": 7,
   "metadata": {},
   "outputs": [],
   "source": [
    "cnn.add(tf.keras.layers.Dense(units=128, activation='relu'))#hidden layer\n",
    "cnn.add(tf.keras.layers.Dense(units=1, activation='sigmoid'))#op layer"
   ]
  },
  {
   "cell_type": "code",
   "execution_count": 8,
   "metadata": {},
   "outputs": [],
   "source": [
    "cnn.compile(optimizer = 'adam', loss = 'binary_crossentropy', metrics = ['accuracy'])"
   ]
  },
  {
   "cell_type": "code",
   "execution_count": 9,
   "metadata": {},
   "outputs": [],
   "source": [
    "from keras.preprocessing.image import ImageDataGenerator"
   ]
  },
  {
   "cell_type": "code",
   "execution_count": 10,
   "metadata": {},
   "outputs": [
    {
     "name": "stdout",
     "output_type": "stream",
     "text": [
      "Found 8000 images belonging to 2 classes.\n"
     ]
    }
   ],
   "source": [
    "train_datagen = ImageDataGenerator(rescale = 1./255,\n",
    "                                   shear_range = 0.2,\n",
    "                                   zoom_range = 0.2,\n",
    "                                   horizontal_flip = True)\n",
    "training_set = train_datagen.flow_from_directory('dataset/training_set',\n",
    "                                                 target_size = (64, 64),\n",
    "                                                 batch_size = 32,\n",
    "                                                 class_mode = 'binary')"
   ]
  },
  {
   "cell_type": "code",
   "execution_count": 11,
   "metadata": {},
   "outputs": [
    {
     "name": "stdout",
     "output_type": "stream",
     "text": [
      "Found 2000 images belonging to 2 classes.\n"
     ]
    }
   ],
   "source": [
    "test_datagen = ImageDataGenerator(rescale = 1./255)\n",
    "test_set = test_datagen.flow_from_directory('dataset/test_set',\n",
    "                                            target_size = (64, 64),\n",
    "                                            batch_size = 32,\n",
    "                                            class_mode = 'binary')"
   ]
  },
  {
   "cell_type": "code",
   "execution_count": 12,
   "metadata": {},
   "outputs": [
    {
     "name": "stdout",
     "output_type": "stream",
     "text": [
      "Epoch 1/25\n",
      "250/250 [==============================] - 77s 299ms/step - loss: 0.6789 - accuracy: 0.5704 - val_loss: 0.6405 - val_accuracy: 0.6440\n",
      "Epoch 2/25\n",
      "250/250 [==============================] - 47s 189ms/step - loss: 0.6402 - accuracy: 0.6385 - val_loss: 0.6130 - val_accuracy: 0.6630\n",
      "Epoch 3/25\n",
      "250/250 [==============================] - 58s 231ms/step - loss: 0.5989 - accuracy: 0.6780 - val_loss: 0.5776 - val_accuracy: 0.6955\n",
      "Epoch 4/25\n",
      "250/250 [==============================] - 75s 300ms/step - loss: 0.5688 - accuracy: 0.7025 - val_loss: 0.5427 - val_accuracy: 0.7420\n",
      "Epoch 5/25\n",
      "250/250 [==============================] - 83s 334ms/step - loss: 0.5370 - accuracy: 0.7243 - val_loss: 0.5199 - val_accuracy: 0.7530\n",
      "Epoch 6/25\n",
      "250/250 [==============================] - 50s 199ms/step - loss: 0.5043 - accuracy: 0.7564 - val_loss: 0.5121 - val_accuracy: 0.7515\n",
      "Epoch 7/25\n",
      "250/250 [==============================] - 50s 199ms/step - loss: 0.4835 - accuracy: 0.7671 - val_loss: 0.5347 - val_accuracy: 0.7295\n",
      "Epoch 8/25\n",
      "250/250 [==============================] - 49s 195ms/step - loss: 0.4593 - accuracy: 0.7839 - val_loss: 0.4956 - val_accuracy: 0.7745\n",
      "Epoch 9/25\n",
      "250/250 [==============================] - 47s 189ms/step - loss: 0.4453 - accuracy: 0.7896 - val_loss: 0.5053 - val_accuracy: 0.7610\n",
      "Epoch 10/25\n",
      "250/250 [==============================] - 50s 199ms/step - loss: 0.4238 - accuracy: 0.8052 - val_loss: 0.4832 - val_accuracy: 0.7845\n",
      "Epoch 11/25\n",
      "250/250 [==============================] - 49s 195ms/step - loss: 0.4196 - accuracy: 0.8049 - val_loss: 0.4750 - val_accuracy: 0.7755\n",
      "Epoch 12/25\n",
      "250/250 [==============================] - 43s 171ms/step - loss: 0.3943 - accuracy: 0.8200 - val_loss: 0.4694 - val_accuracy: 0.7915\n",
      "Epoch 13/25\n",
      "250/250 [==============================] - 44s 174ms/step - loss: 0.3836 - accuracy: 0.8250 - val_loss: 0.4973 - val_accuracy: 0.7675\n",
      "Epoch 14/25\n",
      "250/250 [==============================] - 43s 173ms/step - loss: 0.3775 - accuracy: 0.8294 - val_loss: 0.4745 - val_accuracy: 0.7770\n",
      "Epoch 15/25\n",
      "250/250 [==============================] - 43s 174ms/step - loss: 0.3480 - accuracy: 0.8501 - val_loss: 0.4711 - val_accuracy: 0.7865\n",
      "Epoch 16/25\n",
      "250/250 [==============================] - 41s 163ms/step - loss: 0.3269 - accuracy: 0.8583 - val_loss: 0.4684 - val_accuracy: 0.7905\n",
      "Epoch 17/25\n",
      "250/250 [==============================] - 41s 162ms/step - loss: 0.3208 - accuracy: 0.8602 - val_loss: 0.4921 - val_accuracy: 0.7905\n",
      "Epoch 18/25\n",
      "250/250 [==============================] - 41s 165ms/step - loss: 0.3058 - accuracy: 0.8654 - val_loss: 0.5041 - val_accuracy: 0.7910\n",
      "Epoch 19/25\n",
      "250/250 [==============================] - 43s 172ms/step - loss: 0.2916 - accuracy: 0.8800 - val_loss: 0.5109 - val_accuracy: 0.7800\n",
      "Epoch 20/25\n",
      "250/250 [==============================] - 41s 165ms/step - loss: 0.2805 - accuracy: 0.8789 - val_loss: 0.4913 - val_accuracy: 0.7885\n",
      "Epoch 21/25\n",
      "250/250 [==============================] - 41s 163ms/step - loss: 0.2645 - accuracy: 0.8879 - val_loss: 0.5069 - val_accuracy: 0.7930\n",
      "Epoch 22/25\n",
      "250/250 [==============================] - 40s 161ms/step - loss: 0.2506 - accuracy: 0.8959 - val_loss: 0.5310 - val_accuracy: 0.7860\n",
      "Epoch 23/25\n",
      "250/250 [==============================] - 39s 154ms/step - loss: 0.2280 - accuracy: 0.9061 - val_loss: 0.5117 - val_accuracy: 0.7890\n",
      "Epoch 24/25\n",
      "250/250 [==============================] - 50s 200ms/step - loss: 0.2224 - accuracy: 0.9103 - val_loss: 0.5455 - val_accuracy: 0.7895\n",
      "Epoch 25/25\n",
      "250/250 [==============================] - 40s 159ms/step - loss: 0.2176 - accuracy: 0.9104 - val_loss: 0.5173 - val_accuracy: 0.7885\n"
     ]
    },
    {
     "data": {
      "text/plain": [
       "<keras.callbacks.History at 0x1b30867d9c0>"
      ]
     },
     "execution_count": 12,
     "metadata": {},
     "output_type": "execute_result"
    }
   ],
   "source": [
    "cnn.fit(x = training_set, validation_data = test_set, epochs = 25)"
   ]
  },
  {
   "cell_type": "code",
   "execution_count": 29,
   "metadata": {},
   "outputs": [
    {
     "name": "stdout",
     "output_type": "stream",
     "text": [
      "1/1 [==============================] - 0s 39ms/step\n"
     ]
    }
   ],
   "source": [
    "# import numpy as np\n",
    "# from tensorflow.keras.preprocessing import image\n",
    "# test_image = image.load_img('dataset/single_prediction/cat_or_dog3.jpg', target_size = (64, 64))\n",
    "# test_image = image.img_to_array(test_image)\n",
    "# test_image = np.expand_dims(test_image, axis = 0)\n",
    "# result = cnn.predict(test_image)\n",
    "# training_set.class_indices\n",
    "# if result[0][0] == 1:\n",
    "#   prediction = 'dog'\n",
    "# else:\n",
    "#   prediction = 'cat'"
   ]
  },
  {
   "cell_type": "code",
   "execution_count": 32,
   "metadata": {},
   "outputs": [
    {
     "name": "stdout",
     "output_type": "stream",
     "text": [
      "1/1 [==============================] - 0s 38ms/step\n",
      "Prediction: cat\n"
     ]
    }
   ],
   "source": [
    "import numpy as np\n",
    "from tensorflow.keras.preprocessing import image\n",
    "\n",
    "# Load the test image\n",
    "test_image = image.load_img('dataset/single_prediction/cat_or_dog3.jpg', target_size=(64, 64))\n",
    "test_image = image.img_to_array(test_image)\n",
    "test_image = np.expand_dims(test_image, axis=0)\n",
    "\n",
    "# Preprocess the test image (normalize)\n",
    "test_image = test_image / 255.0\n",
    "\n",
    "# Make predictions\n",
    "result = cnn.predict(test_image)\n",
    "\n",
    "# Get class indices\n",
    "class_indices = training_set.class_indices\n",
    "\n",
    "# Determine the prediction\n",
    "if result[0][0] > 0.5:\n",
    "    prediction = 'dog'\n",
    "else:\n",
    "    prediction = 'cat'\n",
    "\n",
    "# Print prediction\n",
    "print(\"Prediction:\", prediction)"
   ]
  }
 ],
 "metadata": {
  "kernelspec": {
   "display_name": "Python 3",
   "language": "python",
   "name": "python3"
  },
  "language_info": {
   "codemirror_mode": {
    "name": "ipython",
    "version": 3
   },
   "file_extension": ".py",
   "mimetype": "text/x-python",
   "name": "python",
   "nbconvert_exporter": "python",
   "pygments_lexer": "ipython3",
   "version": "3.10.2"
  }
 },
 "nbformat": 4,
 "nbformat_minor": 2
}
