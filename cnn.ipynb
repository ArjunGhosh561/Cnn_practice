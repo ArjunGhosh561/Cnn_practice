{
 "cells": [
  {
   "cell_type": "code",
   "execution_count": 1,
   "metadata": {},
   "outputs": [],
   "source": [
    "import numpy as np\n",
    "import matplotlib.pyplot as plt\n",
    "import pandas as pd\n"
   ]
  },
  {
   "cell_type": "code",
   "execution_count": 2,
   "metadata": {},
   "outputs": [],
   "source": [
    "from keras.models import Sequential\n",
    "from keras.layers import Convolution2D\n",
    "from keras.layers import MaxPooling2D\n",
    "from keras.layers import Flatten\n",
    "from keras.layers import Dense"
   ]
  },
  {
   "cell_type": "code",
   "execution_count": 3,
   "metadata": {},
   "outputs": [],
   "source": [
    "classifier = Sequential()"
   ]
  },
  {
   "cell_type": "code",
   "execution_count": 4,
   "metadata": {},
   "outputs": [],
   "source": [
    "classifier.add(Convolution2D(32,3,3, input_shape=(64,64,3),activation='relu'))"
   ]
  },
  {
   "cell_type": "code",
   "execution_count": 6,
   "metadata": {},
   "outputs": [],
   "source": [
    "#added max pooling\n",
    "classifier.add(MaxPooling2D(pool_size=(2,2)))"
   ]
  },
  {
   "cell_type": "code",
   "execution_count": 7,
   "metadata": {},
   "outputs": [],
   "source": [
    "classifier.add(Flatten())"
   ]
  },
  {
   "cell_type": "code",
   "execution_count": 9,
   "metadata": {},
   "outputs": [],
   "source": [
    "classifier.add(Dense(units=128,activation='relu'))\n",
    "classifier.add(Dense(units=1,activation='sigmoid'))"
   ]
  },
  {
   "cell_type": "code",
   "execution_count": 10,
   "metadata": {},
   "outputs": [],
   "source": [
    "classifier.compile(optimizer='adam',loss='binary_crossentropy',metrics=['accuracy'])"
   ]
  },
  {
   "cell_type": "code",
   "execution_count": 11,
   "metadata": {},
   "outputs": [],
   "source": [
    "from keras.preprocessing.image import ImageDataGenerator"
   ]
  },
  {
   "cell_type": "code",
   "execution_count": 12,
   "metadata": {},
   "outputs": [
    {
     "name": "stdout",
     "output_type": "stream",
     "text": [
      "Found 8000 images belonging to 2 classes.\n",
      "Found 2000 images belonging to 2 classes.\n"
     ]
    }
   ],
   "source": [
    "batch_size = 32\n",
    "train_datagen = ImageDataGenerator(\n",
    "        rescale=1./255,\n",
    "        shear_range=0.2,\n",
    "        zoom_range=0.2,\n",
    "        horizontal_flip=True)\n",
    "\n",
    "test_datagen = ImageDataGenerator(rescale=1./255)\n",
    "\n",
    "\n",
    "training_set = train_datagen.flow_from_directory(\n",
    "        'dataset/training_set',  # this is the target directory\n",
    "        target_size=(64,64),  # all images will be resized to 150x150\n",
    "        batch_size=batch_size,\n",
    "        class_mode='binary')  # since we use binary_crossentropy loss, we need binary labels\n",
    "\n",
    "# this is a similar generator, for validation data\n",
    "test_set = test_datagen.flow_from_directory(\n",
    "        'dataset/test_set',\n",
    "        target_size=(64,64),\n",
    "        batch_size=batch_size,\n",
    "        class_mode='binary')"
   ]
  },
  {
   "cell_type": "code",
   "execution_count": 13,
   "metadata": {},
   "outputs": [
    {
     "name": "stderr",
     "output_type": "stream",
     "text": [
      "C:\\Users\\Arjun\\AppData\\Local\\Temp\\ipykernel_13148\\1053947098.py:1: UserWarning: `Model.fit_generator` is deprecated and will be removed in a future version. Please use `Model.fit`, which supports generators.\n",
      "  classifier.fit_generator(\n"
     ]
    },
    {
     "name": "stdout",
     "output_type": "stream",
     "text": [
      "Epoch 1/50\n",
      "62/62 [==============================] - 42s 541ms/step - loss: 0.6897 - accuracy: 0.5393 - val_loss: 0.6742 - val_accuracy: 0.5713\n",
      "Epoch 2/50\n",
      "62/62 [==============================] - 20s 329ms/step - loss: 0.6617 - accuracy: 0.6028 - val_loss: 0.7762 - val_accuracy: 0.4975\n",
      "Epoch 3/50\n",
      "62/62 [==============================] - 18s 283ms/step - loss: 0.6291 - accuracy: 0.6452 - val_loss: 0.6138 - val_accuracy: 0.6500\n",
      "Epoch 4/50\n",
      "62/62 [==============================] - 13s 208ms/step - loss: 0.6276 - accuracy: 0.6336 - val_loss: 0.6145 - val_accuracy: 0.6687\n",
      "Epoch 5/50\n",
      "62/62 [==============================] - 13s 202ms/step - loss: 0.6238 - accuracy: 0.6552 - val_loss: 0.5846 - val_accuracy: 0.6888\n",
      "Epoch 6/50\n",
      "62/62 [==============================] - 11s 175ms/step - loss: 0.6101 - accuracy: 0.6628 - val_loss: 0.5683 - val_accuracy: 0.7125\n",
      "Epoch 7/50\n",
      "62/62 [==============================] - 9s 140ms/step - loss: 0.5951 - accuracy: 0.6779 - val_loss: 0.5947 - val_accuracy: 0.6812\n",
      "Epoch 8/50\n",
      "62/62 [==============================] - 7s 119ms/step - loss: 0.5985 - accuracy: 0.6784 - val_loss: 0.6846 - val_accuracy: 0.6187\n",
      "Epoch 9/50\n",
      "62/62 [==============================] - 7s 106ms/step - loss: 0.6007 - accuracy: 0.6638 - val_loss: 0.5981 - val_accuracy: 0.6800\n",
      "Epoch 10/50\n",
      "62/62 [==============================] - 7s 107ms/step - loss: 0.5687 - accuracy: 0.7122 - val_loss: 0.5565 - val_accuracy: 0.7212\n",
      "Epoch 11/50\n",
      "62/62 [==============================] - 7s 105ms/step - loss: 0.5640 - accuracy: 0.7167 - val_loss: 0.6287 - val_accuracy: 0.6513\n",
      "Epoch 12/50\n",
      "62/62 [==============================] - 6s 101ms/step - loss: 0.5649 - accuracy: 0.7127 - val_loss: 0.6788 - val_accuracy: 0.6275\n",
      "Epoch 13/50\n",
      "62/62 [==============================] - 6s 99ms/step - loss: 0.5678 - accuracy: 0.7051 - val_loss: 0.6302 - val_accuracy: 0.6637\n",
      "Epoch 14/50\n",
      "62/62 [==============================] - 6s 96ms/step - loss: 0.5516 - accuracy: 0.7117 - val_loss: 0.6153 - val_accuracy: 0.6750\n",
      "Epoch 15/50\n",
      "62/62 [==============================] - 6s 100ms/step - loss: 0.5458 - accuracy: 0.7248 - val_loss: 0.5931 - val_accuracy: 0.6787\n",
      "Epoch 16/50\n",
      "62/62 [==============================] - 6s 93ms/step - loss: 0.5546 - accuracy: 0.7162 - val_loss: 0.5665 - val_accuracy: 0.7262\n",
      "Epoch 17/50\n",
      "62/62 [==============================] - 6s 98ms/step - loss: 0.5485 - accuracy: 0.7319 - val_loss: 0.5522 - val_accuracy: 0.7337\n",
      "Epoch 18/50\n",
      "62/62 [==============================] - 6s 91ms/step - loss: 0.5545 - accuracy: 0.7157 - val_loss: 0.5484 - val_accuracy: 0.6988\n",
      "Epoch 19/50\n",
      "62/62 [==============================] - 6s 92ms/step - loss: 0.5456 - accuracy: 0.7248 - val_loss: 0.6343 - val_accuracy: 0.6737\n",
      "Epoch 20/50\n",
      "62/62 [==============================] - 6s 89ms/step - loss: 0.5285 - accuracy: 0.7384 - val_loss: 0.5497 - val_accuracy: 0.7437\n",
      "Epoch 21/50\n",
      "62/62 [==============================] - 6s 91ms/step - loss: 0.5224 - accuracy: 0.7384 - val_loss: 0.6175 - val_accuracy: 0.6900\n",
      "Epoch 22/50\n",
      "62/62 [==============================] - 6s 90ms/step - loss: 0.5385 - accuracy: 0.7308 - val_loss: 0.5579 - val_accuracy: 0.7400\n",
      "Epoch 23/50\n",
      "62/62 [==============================] - 6s 90ms/step - loss: 0.5210 - accuracy: 0.7349 - val_loss: 0.4959 - val_accuracy: 0.7638\n",
      "Epoch 24/50\n",
      "62/62 [==============================] - 6s 95ms/step - loss: 0.5362 - accuracy: 0.7213 - val_loss: 0.5310 - val_accuracy: 0.7325\n",
      "Epoch 25/50\n",
      "62/62 [==============================] - 6s 93ms/step - loss: 0.5408 - accuracy: 0.7203 - val_loss: 0.5106 - val_accuracy: 0.7550\n",
      "Epoch 26/50\n",
      "62/62 [==============================] - 6s 90ms/step - loss: 0.5220 - accuracy: 0.7485 - val_loss: 0.7034 - val_accuracy: 0.6237\n",
      "Epoch 27/50\n",
      "62/62 [==============================] - 5s 88ms/step - loss: 0.5279 - accuracy: 0.7369 - val_loss: 0.5190 - val_accuracy: 0.7450\n",
      "Epoch 28/50\n",
      "62/62 [==============================] - 5s 89ms/step - loss: 0.5229 - accuracy: 0.7475 - val_loss: 0.4907 - val_accuracy: 0.7625\n",
      "Epoch 29/50\n",
      "62/62 [==============================] - 6s 91ms/step - loss: 0.5261 - accuracy: 0.7349 - val_loss: 0.5369 - val_accuracy: 0.7487\n",
      "Epoch 30/50\n",
      "62/62 [==============================] - 6s 93ms/step - loss: 0.5079 - accuracy: 0.7480 - val_loss: 0.5131 - val_accuracy: 0.7425\n",
      "Epoch 31/50\n",
      "62/62 [==============================] - 6s 89ms/step - loss: 0.5123 - accuracy: 0.7455 - val_loss: 0.5575 - val_accuracy: 0.7287\n",
      "Epoch 32/50\n",
      "62/62 [==============================] - 6s 92ms/step - loss: 0.5158 - accuracy: 0.7455 - val_loss: 0.5290 - val_accuracy: 0.7450\n",
      "Epoch 33/50\n",
      "62/62 [==============================] - 6s 92ms/step - loss: 0.4844 - accuracy: 0.7686 - val_loss: 0.5491 - val_accuracy: 0.7312\n",
      "Epoch 34/50\n",
      "62/62 [==============================] - 6s 91ms/step - loss: 0.5047 - accuracy: 0.7475 - val_loss: 0.5336 - val_accuracy: 0.7400\n",
      "Epoch 35/50\n",
      "62/62 [==============================] - 5s 88ms/step - loss: 0.5051 - accuracy: 0.7440 - val_loss: 0.4932 - val_accuracy: 0.7713\n",
      "Epoch 36/50\n",
      "62/62 [==============================] - 6s 96ms/step - loss: 0.5065 - accuracy: 0.7490 - val_loss: 0.5148 - val_accuracy: 0.7500\n",
      "Epoch 37/50\n",
      "62/62 [==============================] - 5s 88ms/step - loss: 0.4708 - accuracy: 0.7772 - val_loss: 0.5297 - val_accuracy: 0.7312\n",
      "Epoch 38/50\n",
      "62/62 [==============================] - 6s 94ms/step - loss: 0.4940 - accuracy: 0.7550 - val_loss: 0.5240 - val_accuracy: 0.7412\n",
      "Epoch 39/50\n",
      "62/62 [==============================] - 6s 92ms/step - loss: 0.4862 - accuracy: 0.7626 - val_loss: 0.4957 - val_accuracy: 0.7688\n",
      "Epoch 40/50\n",
      "62/62 [==============================] - 6s 91ms/step - loss: 0.4961 - accuracy: 0.7566 - val_loss: 0.5715 - val_accuracy: 0.7312\n",
      "Epoch 41/50\n",
      "62/62 [==============================] - 6s 91ms/step - loss: 0.4976 - accuracy: 0.7636 - val_loss: 0.5480 - val_accuracy: 0.7300\n",
      "Epoch 42/50\n",
      "62/62 [==============================] - 5s 88ms/step - loss: 0.4876 - accuracy: 0.7641 - val_loss: 0.5176 - val_accuracy: 0.7588\n",
      "Epoch 43/50\n",
      "62/62 [==============================] - 5s 89ms/step - loss: 0.4830 - accuracy: 0.7646 - val_loss: 0.5066 - val_accuracy: 0.7588\n",
      "Epoch 44/50\n",
      "62/62 [==============================] - 6s 91ms/step - loss: 0.4752 - accuracy: 0.7681 - val_loss: 0.5529 - val_accuracy: 0.7350\n",
      "Epoch 45/50\n",
      "62/62 [==============================] - 5s 88ms/step - loss: 0.4831 - accuracy: 0.7737 - val_loss: 0.5058 - val_accuracy: 0.7600\n",
      "Epoch 46/50\n",
      "62/62 [==============================] - 5s 89ms/step - loss: 0.4672 - accuracy: 0.7742 - val_loss: 0.5689 - val_accuracy: 0.7175\n",
      "Epoch 47/50\n",
      "62/62 [==============================] - 6s 92ms/step - loss: 0.5014 - accuracy: 0.7404 - val_loss: 0.4843 - val_accuracy: 0.7763\n",
      "Epoch 48/50\n",
      "62/62 [==============================] - 6s 91ms/step - loss: 0.4779 - accuracy: 0.7671 - val_loss: 0.5771 - val_accuracy: 0.7475\n",
      "Epoch 49/50\n",
      "62/62 [==============================] - 6s 90ms/step - loss: 0.4910 - accuracy: 0.7626 - val_loss: 0.5350 - val_accuracy: 0.7500\n",
      "Epoch 50/50\n",
      "62/62 [==============================] - 5s 88ms/step - loss: 0.4884 - accuracy: 0.7732 - val_loss: 0.5206 - val_accuracy: 0.7588\n"
     ]
    }
   ],
   "source": [
    "classifier.fit_generator(\n",
    "        training_set,\n",
    "        steps_per_epoch=2000 // batch_size,\n",
    "        epochs=50,\n",
    "        validation_data=test_set,\n",
    "        validation_steps=800 // batch_size)\n",
    "classifier.save_weights('first_try.h5')"
   ]
  },
  {
   "cell_type": "code",
   "execution_count": null,
   "metadata": {},
   "outputs": [],
   "source": []
  }
 ],
 "metadata": {
  "kernelspec": {
   "display_name": "Python 3",
   "language": "python",
   "name": "python3"
  },
  "language_info": {
   "codemirror_mode": {
    "name": "ipython",
    "version": 3
   },
   "file_extension": ".py",
   "mimetype": "text/x-python",
   "name": "python",
   "nbconvert_exporter": "python",
   "pygments_lexer": "ipython3",
   "version": "3.10.2"
  }
 },
 "nbformat": 4,
 "nbformat_minor": 2
}
